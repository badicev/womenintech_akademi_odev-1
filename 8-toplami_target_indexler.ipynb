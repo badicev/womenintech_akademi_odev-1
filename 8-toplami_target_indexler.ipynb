{
 "cells": [
  {
   "cell_type": "markdown",
   "metadata": {},
   "source": [
    "**Fonksiyon bir integer array nums ve bir hedef target değişkeni almalı ve bizlere toplamı target olan indexleri dönmeli.**\n",
    "\n",
    "* Kurallar: Aynı index’teki değeri iki defa kullanamayız.\n",
    "\n",
    "* Örnek:\n",
    "\n",
    "    Parametreler: nums = [2, 7, 11, 15], target = 9\n",
    "\n",
    "    Dönen Değer: [0, 1]\n",
    "\n",
    "    Açıklama: nums[0] ve nums[1]'deki değerlerin toplamı 9 yaptığı için çıktımız [0, 1] oldu."
   ]
  },
  {
   "cell_type": "code",
   "execution_count": 1,
   "metadata": {},
   "outputs": [
    {
     "data": {
      "text/plain": [
       "[0, 1]"
      ]
     },
     "execution_count": 1,
     "metadata": {},
     "output_type": "execute_result"
    }
   ],
   "source": [
    "def function(my_list, target):\n",
    "    visitedNumbers = {} \n",
    "\n",
    "    for item in range(len(my_list)):\n",
    "        remain = target - my_list[item]\n",
    "        \n",
    "        if remain in visitedNumbers: \n",
    "            return [visitedNumbers[remain], item]\n",
    "\n",
    "        visitedNumbers[my_list[item]] = item\n",
    "\n",
    "my_list = [2, 7, 11, 15]\n",
    "function(my_list, 9)"
   ]
  }
 ],
 "metadata": {
  "kernelspec": {
   "display_name": "Python 3.10.6 64-bit",
   "language": "python",
   "name": "python3"
  },
  "language_info": {
   "codemirror_mode": {
    "name": "ipython",
    "version": 3
   },
   "file_extension": ".py",
   "mimetype": "text/x-python",
   "name": "python",
   "nbconvert_exporter": "python",
   "pygments_lexer": "ipython3",
   "version": "3.10.6"
  },
  "orig_nbformat": 4,
  "vscode": {
   "interpreter": {
    "hash": "7abdeb0200ebd754690cbcec56174444248875cf3a24ec2c75e7a8e48165272e"
   }
  }
 },
 "nbformat": 4,
 "nbformat_minor": 2
}
