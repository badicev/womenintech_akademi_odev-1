{
 "cells": [
  {
   "cell_type": "markdown",
   "metadata": {},
   "source": [
    "**Taş Kağıt Makas Oyunu**\n",
    "\n",
    "Oyun Kuralları:\n",
    "* Kağıt, taşı yener.\n",
    "* Taş, makası yener.\n",
    "* Makas, kağıdı yener."
   ]
  },
  {
   "cell_type": "code",
   "execution_count": 1,
   "metadata": {},
   "outputs": [
    {
     "name": "stdout",
     "output_type": "stream",
     "text": [
      "Taş Kağıt Makas Oyununa Hoş Geldiniz!\n",
      "-------------------------------------\n",
      "\n",
      "1- Taş\n",
      "2- Kağıt\n",
      "3- Makas\n",
      "\n",
      "Oyundan çıkmak isterseniz bu değerler dışında bir değer giriniz. \n",
      "Berabere, yeniden oynayınız!\n",
      "\n",
      "\n",
      "Kullanıcı Skoru: 0 - Bilgisayar Skoru: 0\n",
      "Berabere\n",
      "\n",
      "1- Taş\n",
      "2- Kağıt\n",
      "3- Makas\n",
      "\n",
      "Oyundan çıkmak isterseniz bu değerler dışında bir değer giriniz. \n",
      "Bilgisayarın seçimi: 1\n",
      "\n",
      "Kazanan: Kullanıcı\n",
      "\n",
      "\n",
      "Kullanıcı Skoru: 100 - Bilgisayar Skoru: 0\n",
      "Kazanan: Kullanıcı\n",
      "\n",
      "1- Taş\n",
      "2- Kağıt\n",
      "3- Makas\n",
      "\n",
      "Oyundan çıkmak isterseniz bu değerler dışında bir değer giriniz. \n"
     ]
    }
   ],
   "source": [
    "import random\n",
    "player_score = computer_score = 0\n",
    "computer_choice = 0\n",
    "\n",
    "def print_result(winner = \"Bilgisayar\"):\n",
    "    print(f\"Bilgisayarın seçimi: {computer_choice}\\n\\nKazanan: {winner}\")\n",
    "\n",
    "    global player_score, computer_score\n",
    "    \n",
    "    if winner == \"Bilgisayar\":\n",
    "        computer_score += 100\n",
    "    else:\n",
    "        player_score += 100\n",
    "\n",
    "\n",
    "print(\"Taş Kağıt Makas Oyununa Hoş Geldiniz!\\n\" + \"-\" * 37)\n",
    "\n",
    "while True:\n",
    "    print(\"\\n1- Taş\\n2- Kağıt\\n3- Makas\\n\\nOyundan çıkmak isterseniz bu değerler dışında bir değer giriniz. \")\n",
    "    player_choice = int(input(\"Seçiminizi yapınız: \"))\n",
    "    computer_choice = random.choice([1, 2, 3]) #1, 2, 3 değerlerinden birini alır.\n",
    "\n",
    "    if player_choice == computer_choice:\n",
    "        print(\"Berabere, yeniden oynayınız!\")\n",
    "\n",
    "    elif player_choice == 1:\n",
    "        if computer_choice == 2:\n",
    "            print_result()\n",
    "\n",
    "        elif computer_choice == 3:\n",
    "            print_result(\"Kullanıcı\")\n",
    "\n",
    "    elif player_choice == 2:\n",
    "        if computer_choice == 1:\n",
    "            print_result(\"Kullanıcı\")\n",
    "\n",
    "        elif computer_choice == 3:\n",
    "            print_result()\n",
    "\n",
    "    elif player_choice == 3:\n",
    "        if computer_choice == 1:\n",
    "            print_result()\n",
    "\n",
    "        elif computer_choice == 2:\n",
    "            print_result(\"Kullanıcı\")\n",
    "\n",
    "    else:\n",
    "        break\n",
    "\n",
    "    print(f\"\\n\\nKullanıcı Skoru: {player_score} - Bilgisayar Skoru: {computer_score}\")\n",
    "\n",
    "    if player_score > computer_score: print(\"Kazanan: Kullanıcı\")\n",
    "    elif player_score < computer_score: print(\"Kazanan: Bilgisayar\")\n",
    "    else: print(\"Berabere\")"
   ]
  }
 ],
 "metadata": {
  "kernelspec": {
   "display_name": "Python 3.10.6 64-bit",
   "language": "python",
   "name": "python3"
  },
  "language_info": {
   "codemirror_mode": {
    "name": "ipython",
    "version": 3
   },
   "file_extension": ".py",
   "mimetype": "text/x-python",
   "name": "python",
   "nbconvert_exporter": "python",
   "pygments_lexer": "ipython3",
   "version": "3.10.6"
  },
  "orig_nbformat": 4,
  "vscode": {
   "interpreter": {
    "hash": "7abdeb0200ebd754690cbcec56174444248875cf3a24ec2c75e7a8e48165272e"
   }
  }
 },
 "nbformat": 4,
 "nbformat_minor": 2
}
