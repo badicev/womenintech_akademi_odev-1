{
 "cells": [
  {
   "cell_type": "code",
   "execution_count": null,
   "metadata": {},
   "outputs": [],
   "source": [
    "new_file = open(\"new.txt\", \"w\")\n",
    "\n",
    "with open(\"all_data.txt\", \"r\") as file:\n",
    "  for i in file:\n",
    "    metin = str(i.split(\"\\n\")).lower()\n",
    "\n",
    "    duzeltilecek_harfler = \"çÇğĞıİöÖüÜşŞ▼©\"\n",
    "    duzeltilmis_harfler = \"cCgGiIoOuUsS  \"\n",
    "\n",
    "    alfabe_duzeltme = str.maketrans(duzeltilecek_harfler, duzeltilmis_harfler)\n",
    "\n",
    "    metin = metin.translate(alfabe_duzeltme)\n",
    "\n",
    "    noktalama_isaretleri = \".!...,?\"\n",
    "    bosluk = \"       \"\n",
    "    \n",
    "    noktalama_duzeltme = str.maketrans(noktalama_isaretleri, bosluk)\n",
    "    metin = metin.translate(noktalama_duzeltme)\n",
    "    \n",
    "    rakamlar = \"0123456789\"\n",
    "    bosluk2 = \"          \"\n",
    "    \n",
    "    rakam_silme = str.maketrans(rakamlar, bosluk2)\n",
    "    metin = metin.translate(rakam_silme)\n",
    "\n",
    "    if metin != metin.isnumeric():\n",
    "      new_file.write(metin)    \n",
    "    \n",
    "    print(metin)\n",
    "\n",
    "new_file.close()"
   ]
  }
 ],
 "metadata": {
  "kernelspec": {
   "display_name": "Python 3.10.6 64-bit",
   "language": "python",
   "name": "python3"
  },
  "language_info": {
   "codemirror_mode": {
    "name": "ipython",
    "version": 3
   },
   "file_extension": ".py",
   "mimetype": "text/x-python",
   "name": "python",
   "nbconvert_exporter": "python",
   "pygments_lexer": "ipython3",
   "version": "3.10.6"
  },
  "orig_nbformat": 4,
  "vscode": {
   "interpreter": {
    "hash": "7abdeb0200ebd754690cbcec56174444248875cf3a24ec2c75e7a8e48165272e"
   }
  }
 },
 "nbformat": 4,
 "nbformat_minor": 2
}
