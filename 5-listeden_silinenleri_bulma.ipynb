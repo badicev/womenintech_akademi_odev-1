{
 "cells": [
  {
   "cell_type": "code",
   "execution_count": 1,
   "metadata": {},
   "outputs": [
    {
     "data": {
      "text/plain": [
       "[76,\n",
       " 79,\n",
       " 10,\n",
       " 21,\n",
       " 89,\n",
       " 35,\n",
       " 9,\n",
       " 4,\n",
       " 69,\n",
       " 45,\n",
       " 41,\n",
       " 36,\n",
       " 71,\n",
       " 63,\n",
       " 90,\n",
       " 24,\n",
       " 3,\n",
       " 40,\n",
       " 78,\n",
       " 26,\n",
       " 52,\n",
       " 31,\n",
       " 59,\n",
       " 14,\n",
       " 87,\n",
       " 54,\n",
       " 57,\n",
       " 7,\n",
       " 97,\n",
       " 96,\n",
       " 55,\n",
       " 50,\n",
       " 11,\n",
       " 75,\n",
       " 44,\n",
       " 39,\n",
       " 13,\n",
       " 34,\n",
       " 73,\n",
       " 25,\n",
       " 100,\n",
       " 86,\n",
       " 23,\n",
       " 48,\n",
       " 61,\n",
       " 81,\n",
       " 38,\n",
       " 5,\n",
       " 62,\n",
       " 12,\n",
       " 1,\n",
       " 67,\n",
       " 84,\n",
       " 56,\n",
       " 49,\n",
       " 58,\n",
       " 94,\n",
       " 0,\n",
       " 95,\n",
       " 28,\n",
       " 6,\n",
       " 74,\n",
       " 32,\n",
       " 15,\n",
       " 65,\n",
       " 43,\n",
       " 22,\n",
       " 83,\n",
       " 51,\n",
       " 33,\n",
       " 42,\n",
       " 99,\n",
       " 66,\n",
       " 60,\n",
       " 98,\n",
       " 88,\n",
       " 2,\n",
       " 77,\n",
       " 27,\n",
       " 85,\n",
       " 93,\n",
       " 82,\n",
       " 53,\n",
       " 68,\n",
       " 30,\n",
       " 37,\n",
       " 18,\n",
       " 19,\n",
       " 64,\n",
       " 20,\n",
       " 80,\n",
       " 70,\n",
       " 29,\n",
       " 92,\n",
       " 46,\n",
       " 47,\n",
       " 91,\n",
       " 17,\n",
       " 8,\n",
       " 72,\n",
       " 16]"
      ]
     },
     "execution_count": 1,
     "metadata": {},
     "output_type": "execute_result"
    }
   ],
   "source": [
    "import random\n",
    "\n",
    "my_list = [i for i in range(0, 101)]\n",
    "random.shuffle(my_list)\n",
    "\n",
    "my_list"
   ]
  },
  {
   "cell_type": "code",
   "execution_count": 2,
   "metadata": {},
   "outputs": [
    {
     "data": {
      "text/plain": [
       "91"
      ]
     },
     "execution_count": 2,
     "metadata": {},
     "output_type": "execute_result"
    }
   ],
   "source": [
    "del my_list[0:10]\n",
    "\n",
    "len(my_list)"
   ]
  },
  {
   "cell_type": "code",
   "execution_count": 3,
   "metadata": {},
   "outputs": [
    {
     "name": "stdout",
     "output_type": "stream",
     "text": [
      "4\n",
      "9\n",
      "10\n",
      "21\n",
      "35\n",
      "45\n",
      "69\n",
      "76\n",
      "79\n",
      "89\n",
      "Listeden 10 adet eleman silindi.\n",
      "Silinen elemanlar:  [4, 9, 10, 21, 35, 45, 69, 76, 79, 89]\n"
     ]
    }
   ],
   "source": [
    "count = 0\n",
    "silinen_elemanlar = []\n",
    "\n",
    "for i in range(0, 101):\n",
    "  if i not in my_list:\n",
    "    print(i) #kalabilir de silinebilir de\n",
    "    count += 1\n",
    "    silinen_elemanlar.append(i)\n",
    "\n",
    "print(f\"Listeden {count} adet eleman silindi.\")\n",
    "print(\"Silinen elemanlar: \", silinen_elemanlar)"
   ]
  }
 ],
 "metadata": {
  "kernelspec": {
   "display_name": "Python 3.10.6 64-bit",
   "language": "python",
   "name": "python3"
  },
  "language_info": {
   "codemirror_mode": {
    "name": "ipython",
    "version": 3
   },
   "file_extension": ".py",
   "mimetype": "text/x-python",
   "name": "python",
   "nbconvert_exporter": "python",
   "pygments_lexer": "ipython3",
   "version": "3.10.6"
  },
  "orig_nbformat": 4,
  "vscode": {
   "interpreter": {
    "hash": "7abdeb0200ebd754690cbcec56174444248875cf3a24ec2c75e7a8e48165272e"
   }
  }
 },
 "nbformat": 4,
 "nbformat_minor": 2
}
