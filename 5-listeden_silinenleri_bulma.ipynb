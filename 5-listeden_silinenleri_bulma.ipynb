{
 "cells": [
  {
   "cell_type": "markdown",
   "metadata": {},
   "source": [
    "**0 - 100 arasında karışık sırada sayıları tutan bir listenizin olduğunu düşünün. Bu liste içerisinde n tane sayı eksik. n değerini ve eksik sayıları bulunuz.**"
   ]
  },
  {
   "cell_type": "markdown",
   "metadata": {},
   "source": [
    "* İlk olarak random elemanlardan 0 - 100 aralığında bir liste oluşturduk. Elimizde 101 eleman mevcut."
   ]
  },
  {
   "cell_type": "code",
   "execution_count": 4,
   "metadata": {},
   "outputs": [
    {
     "name": "stdout",
     "output_type": "stream",
     "text": [
      "Listedeki eleman sayısı:  101\n"
     ]
    }
   ],
   "source": [
    "import random\n",
    "\n",
    "my_list = [i for i in range(0, 101)]\n",
    "random.shuffle(my_list)\n",
    "\n",
    "print(\"Listedeki eleman sayısı: \", len(my_list))"
   ]
  },
  {
   "cell_type": "markdown",
   "metadata": {},
   "source": [
    "* del ile listenin ilk 10 elemanını slicing yaparak sildik. Kontrol etmek amacıyla eleman sayısını yazdırdık."
   ]
  },
  {
   "cell_type": "code",
   "execution_count": 5,
   "metadata": {},
   "outputs": [
    {
     "data": {
      "text/plain": [
       "91"
      ]
     },
     "execution_count": 5,
     "metadata": {},
     "output_type": "execute_result"
    }
   ],
   "source": [
    "del my_list[0:10]\n",
    "\n",
    "len(my_list)"
   ]
  },
  {
   "cell_type": "markdown",
   "metadata": {},
   "source": [
    "* Kaç adet elemanın silindiğini görebilmek için bir sayaç (count) tanımladık. \n",
    "* for döngüsü ile 0-100 aralığındaki değerleri döndürüp if ile listemizin içinde olup olmadıklarını kontrol ettik.\n",
    "* Listede olmayan elemanları tanımladığımız yeni listeye append() metodu ile ekledik."
   ]
  },
  {
   "cell_type": "code",
   "execution_count": 6,
   "metadata": {},
   "outputs": [
    {
     "name": "stdout",
     "output_type": "stream",
     "text": [
      "Listeden 10 adet eleman silindi.\n",
      "Silinen elemanlar:  [0, 12, 15, 17, 18, 30, 68, 70, 90, 97]\n"
     ]
    }
   ],
   "source": [
    "count = 0\n",
    "silinen_elemanlar = []\n",
    "\n",
    "for i in range(0, 101):\n",
    "  if i not in my_list:\n",
    "    count += 1\n",
    "    silinen_elemanlar.append(i)\n",
    "\n",
    "print(f\"Listeden {count} adet eleman silindi.\")\n",
    "print(\"Silinen elemanlar: \", silinen_elemanlar)"
   ]
  }
 ],
 "metadata": {
  "kernelspec": {
   "display_name": "Python 3.10.6 64-bit",
   "language": "python",
   "name": "python3"
  },
  "language_info": {
   "codemirror_mode": {
    "name": "ipython",
    "version": 3
   },
   "file_extension": ".py",
   "mimetype": "text/x-python",
   "name": "python",
   "nbconvert_exporter": "python",
   "pygments_lexer": "ipython3",
   "version": "3.10.6"
  },
  "orig_nbformat": 4,
  "vscode": {
   "interpreter": {
    "hash": "7abdeb0200ebd754690cbcec56174444248875cf3a24ec2c75e7a8e48165272e"
   }
  }
 },
 "nbformat": 4,
 "nbformat_minor": 2
}
