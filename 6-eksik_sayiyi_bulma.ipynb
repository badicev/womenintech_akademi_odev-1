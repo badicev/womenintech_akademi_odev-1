{
 "cells": [
  {
   "cell_type": "markdown",
   "metadata": {},
   "source": [
    "**0'dan 100'e kadar karışık sırada sayıları tutan bir listenizin olduğunu düşünün. Bu liste içerisinde bu defa n tane sayı yerine 1 adet sayı eksik. Eksik olan sayıyı bulunuz.**"
   ]
  },
  {
   "cell_type": "markdown",
   "metadata": {},
   "source": [
    "* İlk olarak random elemanlardan 0 - 100 aralığında bir liste oluşturduk. Elimizde 101 adet eleman mevcut."
   ]
  },
  {
   "cell_type": "markdown",
   "metadata": {},
   "source": [
    "*  sample() metodu ile liste içerisinden istediğimiz sayıda elemanın rastgele seçildiği bir liste oluşturabiliriz. \n",
    "    - random.sample(sequence, k) şeklinde kullanılır. "
   ]
  },
  {
   "cell_type": "markdown",
   "metadata": {},
   "source": [
    "* sample() metodu ile 1 adet rastgele eleman seçtik ve o elemanı asıl listemizden sildirdik."
   ]
  },
  {
   "cell_type": "code",
   "execution_count": 9,
   "metadata": {},
   "outputs": [
    {
     "name": "stdout",
     "output_type": "stream",
     "text": [
      "Seçilen eleman:  [10]\n"
     ]
    }
   ],
   "source": [
    "import random\n",
    "\n",
    "my_list = [i for i in range(0, 101)]\n",
    "random.shuffle(my_list)\n",
    "\n",
    "remove_list = random.sample(my_list, 1) #1 tane rastgele eleman seçti.\n",
    "\n",
    "print(\"Seçilen eleman: \", remove_list)\n",
    "\n",
    "for i in remove_list:\n",
    "    my_list.remove(i)"
   ]
  },
  {
   "cell_type": "markdown",
   "metadata": {},
   "source": [
    "**Silinen elemanı bulmak için:**"
   ]
  },
  {
   "cell_type": "markdown",
   "metadata": {},
   "source": [
    "**1. Çözüm**"
   ]
  },
  {
   "cell_type": "markdown",
   "metadata": {},
   "source": [
    "* for döngüsü ile 0-100 aralığındaki değerleri döndürüp if ile listemizin içinde hangi sayının olmadığını kontrol ettik.\n",
    "* Listede olmayan elemanı tanımladığımız yeni listeye append() metodu ile ekledik."
   ]
  },
  {
   "cell_type": "code",
   "execution_count": 10,
   "metadata": {},
   "outputs": [
    {
     "name": "stdout",
     "output_type": "stream",
     "text": [
      "Silinen eleman:  [10]\n"
     ]
    }
   ],
   "source": [
    "silinen_eleman = []\n",
    "\n",
    "for i in range(0, 101):\n",
    "  if i not in my_list:\n",
    "    silinen_eleman.append(i)\n",
    "\n",
    "print(\"Silinen eleman: \", silinen_eleman)"
   ]
  },
  {
   "cell_type": "markdown",
   "metadata": {},
   "source": [
    "**2. Çözüm**"
   ]
  },
  {
   "cell_type": "markdown",
   "metadata": {},
   "source": [
    "* Python'da setler ile kullanabileceğimiz ve işimizi kolaylaştırabilecek birçok metot var. Bunlardan biri: **difference()**\n",
    "    * **difference()** metodu ile iki set arasındaki farkı içeren bir set döndürülür. Kümelerdeki **fark işlemi** olarak düşünülebilir."
   ]
  },
  {
   "cell_type": "markdown",
   "metadata": {},
   "source": [
    "* 0 - 100 arasında elemanları tutan yeni bir set oluştururuz ve eksik elemanın olduğu liste ile fark işlemi uygularız. Sonuç bize listeden silinen elemanı verir."
   ]
  },
  {
   "cell_type": "code",
   "execution_count": 12,
   "metadata": {},
   "outputs": [
    {
     "name": "stdout",
     "output_type": "stream",
     "text": [
      "Silinen eleman:  {10}\n"
     ]
    }
   ],
   "source": [
    "new_set = {i for i in range(0, 21)}\n",
    "\n",
    "difference_set = new_set - set(my_list)\n",
    "\n",
    "print(\"Silinen eleman: \", difference_set)"
   ]
  }
 ],
 "metadata": {
  "kernelspec": {
   "display_name": "Python 3.10.6 64-bit",
   "language": "python",
   "name": "python3"
  },
  "language_info": {
   "codemirror_mode": {
    "name": "ipython",
    "version": 3
   },
   "file_extension": ".py",
   "mimetype": "text/x-python",
   "name": "python",
   "nbconvert_exporter": "python",
   "pygments_lexer": "ipython3",
   "version": "3.10.6"
  },
  "orig_nbformat": 4,
  "vscode": {
   "interpreter": {
    "hash": "7abdeb0200ebd754690cbcec56174444248875cf3a24ec2c75e7a8e48165272e"
   }
  }
 },
 "nbformat": 4,
 "nbformat_minor": 2
}
