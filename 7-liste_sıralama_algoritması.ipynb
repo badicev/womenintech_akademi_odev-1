{
 "cells": [
  {
   "cell_type": "markdown",
   "metadata": {},
   "source": [
    "**Bir liste üzerinde sıralama algoritmasını kullanarak listeyi sıralayınız.**"
   ]
  },
  {
   "cell_type": "code",
   "execution_count": 5,
   "metadata": {},
   "outputs": [
    {
     "name": "stdout",
     "output_type": "stream",
     "text": [
      "[10, 7, 82, 24, 1, 13]\n",
      "Listenin sıralanmış hali:  [1, 7, 10, 13, 24, 82]\n"
     ]
    }
   ],
   "source": [
    "my_list = [10, 7, 82, 24, 1, 13]\n",
    "\n",
    "print(my_list)\n",
    "\n",
    "for i in range(len(my_list)):\n",
    "    for j in range(i + 1, len(my_list)):\n",
    "\n",
    "        if my_list[i] > my_list[j]:\n",
    "            my_list[i], my_list[j] = my_list[j], my_list[i]\n",
    "\n",
    "print(\"Listenin sıralanmış hali: \", my_list)"
   ]
  }
 ],
 "metadata": {
  "kernelspec": {
   "display_name": "Python 3.10.6 64-bit",
   "language": "python",
   "name": "python3"
  },
  "language_info": {
   "codemirror_mode": {
    "name": "ipython",
    "version": 3
   },
   "file_extension": ".py",
   "mimetype": "text/x-python",
   "name": "python",
   "nbconvert_exporter": "python",
   "pygments_lexer": "ipython3",
   "version": "3.10.6"
  },
  "orig_nbformat": 4,
  "vscode": {
   "interpreter": {
    "hash": "7abdeb0200ebd754690cbcec56174444248875cf3a24ec2c75e7a8e48165272e"
   }
  }
 },
 "nbformat": 4,
 "nbformat_minor": 2
}
