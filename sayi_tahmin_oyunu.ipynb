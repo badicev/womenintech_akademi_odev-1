{
 "cells": [
  {
   "cell_type": "markdown",
   "metadata": {},
   "source": [
    "**Sayı Tahmin Oyunu**\n",
    "\n",
    "* Random modülü ile bir sayı alınır.\n",
    "* input ile kullanıcıdan tahminde bulunması istenip ardından yönlendirmeler yapılacak."
   ]
  },
  {
   "cell_type": "code",
   "execution_count": null,
   "metadata": {},
   "outputs": [],
   "source": [
    "from random import randint                  #Random modülünü import ediyoruz.\n",
    "\n",
    "def guess_function(number):\n",
    "    user_input = int(input(\"Sayı tahmin oyunu için 1-100 arasında bir tahminde bulunun: \"))\n",
    "    while number != user_input:\n",
    "        if number < user_input:\n",
    "            print(\"Üzgünüm, daha küçük bir tahminde bulunmalısın.\")\n",
    "        else:\n",
    "            print(\"Üzgünüm, daha büyük bir tahminde bulunmalısın.\")\n",
    "\n",
    "        user_input = int(input(\"Lütfen yeni bir tahminde bulununuz: \"))\n",
    "\n",
    "    print(\"Tebrikler, doğru tahmin!\")\n",
    "\n",
    "guess_function(randint(1, 100))"
   ]
  },
  {
   "cell_type": "markdown",
   "metadata": {},
   "source": [
    "* \"guess_function\" adında bir fonksiyon tanımlandı.\n",
    "* input() ile kullanıcıdan tahmin alındı.\n",
    "* \"while\" ile kullanıcı doğru tahminde bulunana kadar döngü oluşturuldu.\n",
    "* Karar yapıları (if-else) ile kullanıcı yönlendirildi."
   ]
  }
 ],
 "metadata": {
  "kernelspec": {
   "display_name": "Python 3.10.6 64-bit",
   "language": "python",
   "name": "python3"
  },
  "language_info": {
   "name": "python",
   "version": "3.10.6"
  },
  "orig_nbformat": 4,
  "vscode": {
   "interpreter": {
    "hash": "7abdeb0200ebd754690cbcec56174444248875cf3a24ec2c75e7a8e48165272e"
   }
  }
 },
 "nbformat": 4,
 "nbformat_minor": 2
}
