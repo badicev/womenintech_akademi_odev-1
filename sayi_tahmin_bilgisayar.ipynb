{
 "cells": [
  {
   "cell_type": "markdown",
   "metadata": {},
   "source": [
    "**Bilgisayara Sayı Tahmini Yaptırma**"
   ]
  },
  {
   "cell_type": "code",
   "execution_count": 1,
   "metadata": {},
   "outputs": [
    {
     "name": "stdout",
     "output_type": "stream",
     "text": [
      "Tebrikler, doğru tahmin!\n"
     ]
    }
   ],
   "source": [
    "import random\n",
    "\n",
    "def computer_guess(number):\n",
    "    start = 1\n",
    "    end = 100\n",
    "    result = \"\"\n",
    "    while result != \"d\":\n",
    "        guess = random.randint(start, end)\n",
    "        \n",
    "        result = input(f\"{guess} değeri aklınızdan tuttuğunuz değerden büyükse (b) küçükse (k) doğruysa (d) giriniz: \").lower()\n",
    "\n",
    "        if result == \"b\":\n",
    "            end = guess - 1\n",
    "        \n",
    "        elif result == \"k\":\n",
    "            start = guess + 1\n",
    "\n",
    "    print(\"Tebrikler, doğru tahmin!\")\n",
    "\n",
    "computer_guess(23)"
   ]
  },
  {
   "cell_type": "markdown",
   "metadata": {},
   "source": [
    "* random modülünü import ettik.\n",
    "* \"computer_guess\" adında bir fonksiyon tanımladık.\n",
    "* while ile doğru anlamına gelen \"d\" girdisini alana kadar döngü oluşturuyoruz.\n",
    "* Program 1-100 aralığında random bir değer bulup \"guess\" değişkenine atıyor ve input() ile onu yönlendirmemizi istiyor.\n",
    "* Kontrol yapıları (if-else) ile random değer aralığını güncelliyoruz. "
   ]
  }
 ],
 "metadata": {
  "kernelspec": {
   "display_name": "Python 3.10.6 64-bit",
   "language": "python",
   "name": "python3"
  },
  "language_info": {
   "codemirror_mode": {
    "name": "ipython",
    "version": 3
   },
   "file_extension": ".py",
   "mimetype": "text/x-python",
   "name": "python",
   "nbconvert_exporter": "python",
   "pygments_lexer": "ipython3",
   "version": "3.10.6"
  },
  "orig_nbformat": 4,
  "vscode": {
   "interpreter": {
    "hash": "7abdeb0200ebd754690cbcec56174444248875cf3a24ec2c75e7a8e48165272e"
   }
  }
 },
 "nbformat": 4,
 "nbformat_minor": 2
}
