{
 "cells": [
  {
   "cell_type": "markdown",
   "metadata": {},
   "source": [
    "**Yıldızlarla Üçgen Çizimi**\n",
    "\n",
    "* Döngüler kullanılarak yıldızlar ile üçgen çizimi yapılacak.\n",
    "* Aşağıdaki şekilleri elde etmemiz isteniyor:"
   ]
  },
  {
   "cell_type": "markdown",
   "metadata": {},
   "source": [
    "# ![title](yildizlarlaucgencizimi.png)"
   ]
  }
 ],
 "metadata": {
  "kernelspec": {
   "display_name": "Python 3.10.6 64-bit",
   "language": "python",
   "name": "python3"
  },
  "language_info": {
   "name": "python",
   "version": "3.10.6"
  },
  "orig_nbformat": 4,
  "vscode": {
   "interpreter": {
    "hash": "7abdeb0200ebd754690cbcec56174444248875cf3a24ec2c75e7a8e48165272e"
   }
  }
 },
 "nbformat": 4,
 "nbformat_minor": 2
}
