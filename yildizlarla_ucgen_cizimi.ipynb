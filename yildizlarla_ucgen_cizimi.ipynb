{
 "cells": [
  {
   "cell_type": "markdown",
   "metadata": {},
   "source": [
    "**Yıldızlarla Üçgen Çizimi**\n",
    "\n",
    "* Döngüler kullanılarak yıldızlar ile üçgen çizimi yapılacak.\n",
    "* Aşağıdaki şekilleri elde etmemiz isteniyor:"
   ]
  },
  {
   "cell_type": "markdown",
   "metadata": {},
   "source": [
    "# ![title](images/yildizlarlaucgencizimi.png)"
   ]
  },
  {
   "cell_type": "code",
   "execution_count": 1,
   "metadata": {},
   "outputs": [
    {
     "name": "stdout",
     "output_type": "stream",
     "text": [
      "*\n",
      "**\n",
      "***\n",
      "****\n",
      "*****\n"
     ]
    }
   ],
   "source": [
    "#Birinci Şekil İçin:\n",
    "\n",
    "satir_sayisi = int(input(\"Bir sayı giriniz: \"))    #Kullanıcıdan sayı değeri alıyoruz\n",
    "\n",
    "for i in range(1, satir_sayisi + 1):\n",
    "    print(\"*\" * i)"
   ]
  },
  {
   "cell_type": "code",
   "execution_count": 2,
   "metadata": {},
   "outputs": [
    {
     "name": "stdout",
     "output_type": "stream",
     "text": [
      "*****\n",
      "****\n",
      "***\n",
      "**\n",
      "*\n"
     ]
    }
   ],
   "source": [
    "#İkinci Şekil İçin:\n",
    "\n",
    "satir_sayisi = int(input(\"Bir sayı giriniz: \")) \n",
    "\n",
    "for i in range(satir_sayisi, 0, -1):\n",
    "    print(\"*\" * i)"
   ]
  },
  {
   "cell_type": "code",
   "execution_count": 4,
   "metadata": {},
   "outputs": [
    {
     "name": "stdout",
     "output_type": "stream",
     "text": [
      "    *\n",
      "   **\n",
      "  ***\n",
      " ****\n",
      "*****\n"
     ]
    }
   ],
   "source": [
    "#Üçüncü Şekil İçin:\n",
    "\n",
    "satir_sayisi = int(input(\"Bir sayı giriniz: \")) \n",
    "\n",
    "for i in range(1, satir_sayisi + 1):\n",
    "    bosluk_sayisi = satir_sayisi - i\n",
    "    yildiz_sayisi = i\n",
    "    print(\" \" * bosluk_sayisi + \"*\" * yildiz_sayisi)"
   ]
  },
  {
   "cell_type": "code",
   "execution_count": 5,
   "metadata": {},
   "outputs": [
    {
     "name": "stdout",
     "output_type": "stream",
     "text": [
      "*****\n",
      " ****\n",
      "  ***\n",
      "   **\n",
      "    *\n"
     ]
    }
   ],
   "source": [
    "#Dördüncü Şekil İçin:\n",
    "\n",
    "satir_sayisi = int(input(\"Bir sayı giriniz: \")) \n",
    "\n",
    "for i in range(1, satir_sayisi + 1):\n",
    "    bosluk_sayisi = i - 1\n",
    "    yildiz_sayisi = satir_sayisi - bosluk_sayisi\n",
    "    print(\" \" * bosluk_sayisi + \"*\" * yildiz_sayisi)\n"
   ]
  },
  {
   "cell_type": "code",
   "execution_count": 7,
   "metadata": {},
   "outputs": [
    {
     "name": "stdout",
     "output_type": "stream",
     "text": [
      "    **    \n",
      "   ****   \n",
      "  ******  \n",
      " ******** \n",
      "**********\n"
     ]
    }
   ],
   "source": [
    "#Beşinci Şekil İçin:\n",
    "\n",
    "satir_sayisi = int(input(\"Bir sayı giriniz: \"))\n",
    "\n",
    "for i in range(1, satir_sayisi + 1):\n",
    "    yildiz_sayisi = i * 2\n",
    "    bosluk_sayisi = satir_sayisi - i\n",
    "    print(\" \" * bosluk_sayisi + \"*\" * yildiz_sayisi + \" \" * bosluk_sayisi)"
   ]
  },
  {
   "cell_type": "code",
   "execution_count": 8,
   "metadata": {},
   "outputs": [
    {
     "name": "stdout",
     "output_type": "stream",
     "text": [
      "**********\n",
      " ******** \n",
      "  ******  \n",
      "   ****   \n",
      "    **    \n"
     ]
    }
   ],
   "source": [
    "#Altıncı Şekil İçin:\n",
    "\n",
    "satir_sayisi = int(input(\"Bir sayı giriniz: \"))\n",
    "\n",
    "for i in range(0, satir_sayisi):\n",
    "    bosluk_sayisi = i\n",
    "    yildiz_sayisi = 2 * (satir_sayisi - bosluk_sayisi)\n",
    "    print(\" \" * bosluk_sayisi + \"*\" * yildiz_sayisi + \" \" * bosluk_sayisi)\n"
   ]
  },
  {
   "cell_type": "code",
   "execution_count": 9,
   "metadata": {},
   "outputs": [
    {
     "name": "stdout",
     "output_type": "stream",
     "text": [
      "*        *\n",
      "**      **\n",
      "***    ***\n",
      "****  ****\n",
      "**********\n"
     ]
    }
   ],
   "source": [
    "#Yedinci Şekil İçin:\n",
    "\n",
    "satir_sayisi = int(input(\"Bir sayı giriniz: \"))\n",
    "\n",
    "for i in range(1, satir_sayisi + 1):\n",
    "    yildiz_sayisi = i\n",
    "    bosluk_sayisi = 2 * (satir_sayisi - i)\n",
    "    print(\"*\" * yildiz_sayisi + \" \" * bosluk_sayisi + \"*\" * yildiz_sayisi)"
   ]
  }
 ],
 "metadata": {
  "kernelspec": {
   "display_name": "Python 3.10.6 64-bit",
   "language": "python",
   "name": "python3"
  },
  "language_info": {
   "codemirror_mode": {
    "name": "ipython",
    "version": 3
   },
   "file_extension": ".py",
   "mimetype": "text/x-python",
   "name": "python",
   "nbconvert_exporter": "python",
   "pygments_lexer": "ipython3",
   "version": "3.10.6"
  },
  "orig_nbformat": 4,
  "vscode": {
   "interpreter": {
    "hash": "7abdeb0200ebd754690cbcec56174444248875cf3a24ec2c75e7a8e48165272e"
   }
  }
 },
 "nbformat": 4,
 "nbformat_minor": 2
}
